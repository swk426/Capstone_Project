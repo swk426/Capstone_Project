{
 "cells": [
  {
   "cell_type": "markdown",
   "metadata": {},
   "source": [
    "# Image Data Processing"
   ]
  },
  {
   "cell_type": "markdown",
   "metadata": {},
   "source": [
    "This notebook's purpose is to convert image data to arrays. To mitigate the class imbalance, SMOTE and ADASYN technique is practiced. "
   ]
  },
  {
   "cell_type": "markdown",
   "metadata": {},
   "source": [
    "## Library"
   ]
  },
  {
   "cell_type": "code",
   "execution_count": 1,
   "metadata": {},
   "outputs": [
    {
     "name": "stderr",
     "output_type": "stream",
     "text": [
      "Using TensorFlow backend.\n",
      "/opt/anaconda3/envs/learn-env/lib/python3.6/site-packages/sklearn/externals/six.py:31: DeprecationWarning: The module is deprecated in version 0.21 and will be removed in version 0.23 since we've dropped support for Python 2.7. Please rely on the official version of six (https://pypi.org/project/six/).\n",
      "  \"(https://pypi.org/project/six/).\", DeprecationWarning)\n"
     ]
    }
   ],
   "source": [
    "import numpy as np\n",
    "import pandas as pd\n",
    "import matplotlib.pyplot as plt\n",
    "\n",
    "from PIL import Image\n",
    "from scipy import ndimage\n",
    "\n",
    "from keras.preprocessing.image import ImageDataGenerator, array_to_img, img_to_array, load_img\n",
    "\n",
    "from imblearn.over_sampling import SMOTE, ADASYN"
   ]
  },
  {
   "cell_type": "markdown",
   "metadata": {},
   "source": [
    "## Loading Data"
   ]
  },
  {
   "cell_type": "markdown",
   "metadata": {},
   "source": [
    "Now let's load the data with a pathway."
   ]
  },
  {
   "cell_type": "code",
   "execution_count": 2,
   "metadata": {
    "scrolled": true
   },
   "outputs": [
    {
     "data": {
      "text/html": [
       "<div>\n",
       "<style scoped>\n",
       "    .dataframe tbody tr th:only-of-type {\n",
       "        vertical-align: middle;\n",
       "    }\n",
       "\n",
       "    .dataframe tbody tr th {\n",
       "        vertical-align: top;\n",
       "    }\n",
       "\n",
       "    .dataframe thead th {\n",
       "        text-align: right;\n",
       "    }\n",
       "</style>\n",
       "<table border=\"1\" class=\"dataframe\">\n",
       "  <thead>\n",
       "    <tr style=\"text-align: right;\">\n",
       "      <th></th>\n",
       "      <th>Unnamed: 0</th>\n",
       "      <th>image_name</th>\n",
       "      <th>patient_id</th>\n",
       "      <th>sex</th>\n",
       "      <th>age_approx</th>\n",
       "      <th>anatom_site_general_challenge</th>\n",
       "      <th>diagnosis</th>\n",
       "      <th>benign_malignant</th>\n",
       "      <th>path</th>\n",
       "      <th>target</th>\n",
       "    </tr>\n",
       "  </thead>\n",
       "  <tbody>\n",
       "    <tr>\n",
       "      <td>0</td>\n",
       "      <td>12594</td>\n",
       "      <td>ISIC_3879233</td>\n",
       "      <td>IP_3564160</td>\n",
       "      <td>female</td>\n",
       "      <td>65.0</td>\n",
       "      <td>upper extremity</td>\n",
       "      <td>unknown</td>\n",
       "      <td>benign</td>\n",
       "      <td>../data/raw/jpeg/train/ISIC_3879233.jpg</td>\n",
       "      <td>0</td>\n",
       "    </tr>\n",
       "    <tr>\n",
       "      <td>1</td>\n",
       "      <td>5755</td>\n",
       "      <td>ISIC_1828419</td>\n",
       "      <td>IP_1522453</td>\n",
       "      <td>female</td>\n",
       "      <td>25.0</td>\n",
       "      <td>torso</td>\n",
       "      <td>unknown</td>\n",
       "      <td>benign</td>\n",
       "      <td>../data/raw/jpeg/train/ISIC_1828419.jpg</td>\n",
       "      <td>0</td>\n",
       "    </tr>\n",
       "    <tr>\n",
       "      <td>2</td>\n",
       "      <td>3467</td>\n",
       "      <td>ISIC_1150399</td>\n",
       "      <td>IP_4879325</td>\n",
       "      <td>female</td>\n",
       "      <td>55.0</td>\n",
       "      <td>torso</td>\n",
       "      <td>unknown</td>\n",
       "      <td>benign</td>\n",
       "      <td>../data/raw/jpeg/train/ISIC_1150399.jpg</td>\n",
       "      <td>0</td>\n",
       "    </tr>\n",
       "    <tr>\n",
       "      <td>3</td>\n",
       "      <td>11154</td>\n",
       "      <td>ISIC_3435115</td>\n",
       "      <td>IP_3448782</td>\n",
       "      <td>male</td>\n",
       "      <td>50.0</td>\n",
       "      <td>torso</td>\n",
       "      <td>unknown</td>\n",
       "      <td>benign</td>\n",
       "      <td>../data/raw/jpeg/train/ISIC_3435115.jpg</td>\n",
       "      <td>0</td>\n",
       "    </tr>\n",
       "    <tr>\n",
       "      <td>4</td>\n",
       "      <td>14746</td>\n",
       "      <td>ISIC_4516835</td>\n",
       "      <td>IP_5474292</td>\n",
       "      <td>male</td>\n",
       "      <td>40.0</td>\n",
       "      <td>lower extremity</td>\n",
       "      <td>unknown</td>\n",
       "      <td>benign</td>\n",
       "      <td>../data/raw/jpeg/train/ISIC_4516835.jpg</td>\n",
       "      <td>0</td>\n",
       "    </tr>\n",
       "  </tbody>\n",
       "</table>\n",
       "</div>"
      ],
      "text/plain": [
       "   Unnamed: 0    image_name  patient_id     sex  age_approx  \\\n",
       "0       12594  ISIC_3879233  IP_3564160  female        65.0   \n",
       "1        5755  ISIC_1828419  IP_1522453  female        25.0   \n",
       "2        3467  ISIC_1150399  IP_4879325  female        55.0   \n",
       "3       11154  ISIC_3435115  IP_3448782    male        50.0   \n",
       "4       14746  ISIC_4516835  IP_5474292    male        40.0   \n",
       "\n",
       "  anatom_site_general_challenge diagnosis benign_malignant  \\\n",
       "0               upper extremity   unknown           benign   \n",
       "1                         torso   unknown           benign   \n",
       "2                         torso   unknown           benign   \n",
       "3                         torso   unknown           benign   \n",
       "4               lower extremity   unknown           benign   \n",
       "\n",
       "                                      path  target  \n",
       "0  ../data/raw/jpeg/train/ISIC_3879233.jpg       0  \n",
       "1  ../data/raw/jpeg/train/ISIC_1828419.jpg       0  \n",
       "2  ../data/raw/jpeg/train/ISIC_1150399.jpg       0  \n",
       "3  ../data/raw/jpeg/train/ISIC_3435115.jpg       0  \n",
       "4  ../data/raw/jpeg/train/ISIC_4516835.jpg       0  "
      ]
     },
     "execution_count": 2,
     "metadata": {},
     "output_type": "execute_result"
    }
   ],
   "source": [
    "train_df = pd.read_csv('../data/interim/train.csv')\n",
    "train_df.head()"
   ]
  },
  {
   "cell_type": "code",
   "execution_count": 3,
   "metadata": {},
   "outputs": [
    {
     "data": {
      "text/html": [
       "<div>\n",
       "<style scoped>\n",
       "    .dataframe tbody tr th:only-of-type {\n",
       "        vertical-align: middle;\n",
       "    }\n",
       "\n",
       "    .dataframe tbody tr th {\n",
       "        vertical-align: top;\n",
       "    }\n",
       "\n",
       "    .dataframe thead th {\n",
       "        text-align: right;\n",
       "    }\n",
       "</style>\n",
       "<table border=\"1\" class=\"dataframe\">\n",
       "  <thead>\n",
       "    <tr style=\"text-align: right;\">\n",
       "      <th></th>\n",
       "      <th>Unnamed: 0</th>\n",
       "      <th>image_name</th>\n",
       "      <th>patient_id</th>\n",
       "      <th>sex</th>\n",
       "      <th>age_approx</th>\n",
       "      <th>anatom_site_general_challenge</th>\n",
       "      <th>diagnosis</th>\n",
       "      <th>benign_malignant</th>\n",
       "      <th>path</th>\n",
       "      <th>target</th>\n",
       "    </tr>\n",
       "  </thead>\n",
       "  <tbody>\n",
       "    <tr>\n",
       "      <td>0</td>\n",
       "      <td>11493</td>\n",
       "      <td>ISIC_3541663</td>\n",
       "      <td>IP_1091619</td>\n",
       "      <td>male</td>\n",
       "      <td>40.0</td>\n",
       "      <td>torso</td>\n",
       "      <td>unknown</td>\n",
       "      <td>benign</td>\n",
       "      <td>../data/raw/jpeg/train/ISIC_3541663.jpg</td>\n",
       "      <td>0</td>\n",
       "    </tr>\n",
       "    <tr>\n",
       "      <td>1</td>\n",
       "      <td>20808</td>\n",
       "      <td>ISIC_0066116</td>\n",
       "      <td>-1</td>\n",
       "      <td>male</td>\n",
       "      <td>65.0</td>\n",
       "      <td>anterior torso</td>\n",
       "      <td>MEL</td>\n",
       "      <td>malignant</td>\n",
       "      <td>../data/raw/archive/train/ISIC_0066116.jpg</td>\n",
       "      <td>1</td>\n",
       "    </tr>\n",
       "    <tr>\n",
       "      <td>2</td>\n",
       "      <td>14594</td>\n",
       "      <td>ISIC_4472903</td>\n",
       "      <td>IP_5945814</td>\n",
       "      <td>female</td>\n",
       "      <td>35.0</td>\n",
       "      <td>lower extremity</td>\n",
       "      <td>unknown</td>\n",
       "      <td>benign</td>\n",
       "      <td>../data/raw/jpeg/train/ISIC_4472903.jpg</td>\n",
       "      <td>0</td>\n",
       "    </tr>\n",
       "    <tr>\n",
       "      <td>3</td>\n",
       "      <td>21209</td>\n",
       "      <td>ISIC_6436590</td>\n",
       "      <td>IP_9164079</td>\n",
       "      <td>female</td>\n",
       "      <td>40.0</td>\n",
       "      <td>torso</td>\n",
       "      <td>unknown</td>\n",
       "      <td>benign</td>\n",
       "      <td>../data/raw/jpeg/train/ISIC_6436590.jpg</td>\n",
       "      <td>0</td>\n",
       "    </tr>\n",
       "    <tr>\n",
       "      <td>4</td>\n",
       "      <td>26217</td>\n",
       "      <td>ISIC_7959322</td>\n",
       "      <td>IP_0843629</td>\n",
       "      <td>male</td>\n",
       "      <td>35.0</td>\n",
       "      <td>torso</td>\n",
       "      <td>unknown</td>\n",
       "      <td>benign</td>\n",
       "      <td>../data/raw/jpeg/train/ISIC_7959322.jpg</td>\n",
       "      <td>0</td>\n",
       "    </tr>\n",
       "  </tbody>\n",
       "</table>\n",
       "</div>"
      ],
      "text/plain": [
       "   Unnamed: 0    image_name  patient_id     sex  age_approx  \\\n",
       "0       11493  ISIC_3541663  IP_1091619    male        40.0   \n",
       "1       20808  ISIC_0066116          -1    male        65.0   \n",
       "2       14594  ISIC_4472903  IP_5945814  female        35.0   \n",
       "3       21209  ISIC_6436590  IP_9164079  female        40.0   \n",
       "4       26217  ISIC_7959322  IP_0843629    male        35.0   \n",
       "\n",
       "  anatom_site_general_challenge diagnosis benign_malignant  \\\n",
       "0                         torso   unknown           benign   \n",
       "1                anterior torso       MEL        malignant   \n",
       "2               lower extremity   unknown           benign   \n",
       "3                         torso   unknown           benign   \n",
       "4                         torso   unknown           benign   \n",
       "\n",
       "                                         path  target  \n",
       "0     ../data/raw/jpeg/train/ISIC_3541663.jpg       0  \n",
       "1  ../data/raw/archive/train/ISIC_0066116.jpg       1  \n",
       "2     ../data/raw/jpeg/train/ISIC_4472903.jpg       0  \n",
       "3     ../data/raw/jpeg/train/ISIC_6436590.jpg       0  \n",
       "4     ../data/raw/jpeg/train/ISIC_7959322.jpg       0  "
      ]
     },
     "execution_count": 3,
     "metadata": {},
     "output_type": "execute_result"
    }
   ],
   "source": [
    "test_df = pd.read_csv('../data/interim/test.csv')\n",
    "test_df.head()"
   ]
  },
  {
   "cell_type": "code",
   "execution_count": 4,
   "metadata": {},
   "outputs": [
    {
     "data": {
      "text/html": [
       "<div>\n",
       "<style scoped>\n",
       "    .dataframe tbody tr th:only-of-type {\n",
       "        vertical-align: middle;\n",
       "    }\n",
       "\n",
       "    .dataframe tbody tr th {\n",
       "        vertical-align: top;\n",
       "    }\n",
       "\n",
       "    .dataframe thead th {\n",
       "        text-align: right;\n",
       "    }\n",
       "</style>\n",
       "<table border=\"1\" class=\"dataframe\">\n",
       "  <thead>\n",
       "    <tr style=\"text-align: right;\">\n",
       "      <th></th>\n",
       "      <th>Unnamed: 0</th>\n",
       "      <th>image_name</th>\n",
       "      <th>patient_id</th>\n",
       "      <th>sex</th>\n",
       "      <th>age_approx</th>\n",
       "      <th>anatom_site_general_challenge</th>\n",
       "      <th>diagnosis</th>\n",
       "      <th>benign_malignant</th>\n",
       "      <th>path</th>\n",
       "      <th>target</th>\n",
       "    </tr>\n",
       "  </thead>\n",
       "  <tbody>\n",
       "    <tr>\n",
       "      <td>0</td>\n",
       "      <td>5688</td>\n",
       "      <td>ISIC_1802797</td>\n",
       "      <td>IP_2913292</td>\n",
       "      <td>male</td>\n",
       "      <td>50.0</td>\n",
       "      <td>lower extremity</td>\n",
       "      <td>unknown</td>\n",
       "      <td>benign</td>\n",
       "      <td>../data/raw/jpeg/train/ISIC_1802797.jpg</td>\n",
       "      <td>0</td>\n",
       "    </tr>\n",
       "    <tr>\n",
       "      <td>1</td>\n",
       "      <td>19374</td>\n",
       "      <td>ISIC_5883084</td>\n",
       "      <td>IP_2152204</td>\n",
       "      <td>female</td>\n",
       "      <td>50.0</td>\n",
       "      <td>torso</td>\n",
       "      <td>unknown</td>\n",
       "      <td>benign</td>\n",
       "      <td>../data/raw/jpeg/train/ISIC_5883084.jpg</td>\n",
       "      <td>0</td>\n",
       "    </tr>\n",
       "    <tr>\n",
       "      <td>2</td>\n",
       "      <td>24189</td>\n",
       "      <td>ISIC_7343496</td>\n",
       "      <td>IP_4584109</td>\n",
       "      <td>female</td>\n",
       "      <td>60.0</td>\n",
       "      <td>lower extremity</td>\n",
       "      <td>seborrheic keratosis</td>\n",
       "      <td>benign</td>\n",
       "      <td>../data/raw/jpeg/train/ISIC_7343496.jpg</td>\n",
       "      <td>0</td>\n",
       "    </tr>\n",
       "    <tr>\n",
       "      <td>3</td>\n",
       "      <td>5752</td>\n",
       "      <td>ISIC_0027155</td>\n",
       "      <td>-1</td>\n",
       "      <td>male</td>\n",
       "      <td>65.0</td>\n",
       "      <td>head/neck</td>\n",
       "      <td>MEL</td>\n",
       "      <td>malignant</td>\n",
       "      <td>../data/raw/archive/train/ISIC_0027155.jpg</td>\n",
       "      <td>1</td>\n",
       "    </tr>\n",
       "    <tr>\n",
       "      <td>4</td>\n",
       "      <td>27667</td>\n",
       "      <td>ISIC_8374701</td>\n",
       "      <td>IP_6318212</td>\n",
       "      <td>female</td>\n",
       "      <td>55.0</td>\n",
       "      <td>torso</td>\n",
       "      <td>unknown</td>\n",
       "      <td>benign</td>\n",
       "      <td>../data/raw/jpeg/train/ISIC_8374701.jpg</td>\n",
       "      <td>0</td>\n",
       "    </tr>\n",
       "  </tbody>\n",
       "</table>\n",
       "</div>"
      ],
      "text/plain": [
       "   Unnamed: 0    image_name  patient_id     sex  age_approx  \\\n",
       "0        5688  ISIC_1802797  IP_2913292    male        50.0   \n",
       "1       19374  ISIC_5883084  IP_2152204  female        50.0   \n",
       "2       24189  ISIC_7343496  IP_4584109  female        60.0   \n",
       "3        5752  ISIC_0027155          -1    male        65.0   \n",
       "4       27667  ISIC_8374701  IP_6318212  female        55.0   \n",
       "\n",
       "  anatom_site_general_challenge             diagnosis benign_malignant  \\\n",
       "0               lower extremity               unknown           benign   \n",
       "1                         torso               unknown           benign   \n",
       "2               lower extremity  seborrheic keratosis           benign   \n",
       "3                     head/neck                   MEL        malignant   \n",
       "4                         torso               unknown           benign   \n",
       "\n",
       "                                         path  target  \n",
       "0     ../data/raw/jpeg/train/ISIC_1802797.jpg       0  \n",
       "1     ../data/raw/jpeg/train/ISIC_5883084.jpg       0  \n",
       "2     ../data/raw/jpeg/train/ISIC_7343496.jpg       0  \n",
       "3  ../data/raw/archive/train/ISIC_0027155.jpg       1  \n",
       "4     ../data/raw/jpeg/train/ISIC_8374701.jpg       0  "
      ]
     },
     "execution_count": 4,
     "metadata": {},
     "output_type": "execute_result"
    }
   ],
   "source": [
    "val_df = pd.read_csv('../data/interim/val.csv')\n",
    "val_df.head()"
   ]
  },
  {
   "cell_type": "markdown",
   "metadata": {},
   "source": [
    "To convert the image to array, we are separating target column with rest of the columns."
   ]
  },
  {
   "cell_type": "code",
   "execution_count": 5,
   "metadata": {},
   "outputs": [],
   "source": [
    "train_X = train_df.drop('target', axis=1)\n",
    "train_y = train_df.target\n",
    "\n",
    "test_X = test_df.drop('target', axis=1)\n",
    "test_y = test_df.target\n",
    "\n",
    "val_X = val_df.drop('target', axis=1)\n",
    "val_y = val_df.target\n",
    "\n",
    "train_size = int(len(train_df)/5) #To save the time, only 1/5 of the images will be used.\n",
    "test_size = int(len(test_df)/5)   #If not satisfied with result, sample size will be increased. \n",
    "val_size = int(len(val_df)/5)"
   ]
  },
  {
   "cell_type": "markdown",
   "metadata": {},
   "source": [
    "Converting Image to array!"
   ]
  },
  {
   "cell_type": "code",
   "execution_count": 6,
   "metadata": {},
   "outputs": [
    {
     "name": "stdout",
     "output_type": "stream",
     "text": [
      "Found 27106 validated image filenames belonging to 2 classes.\n",
      "Found 6777 validated image filenames belonging to 2 classes.\n",
      "Found 3765 validated image filenames belonging to 2 classes.\n"
     ]
    }
   ],
   "source": [
    "train_datagen = ImageDataGenerator(rescale=1./255, zoom_range=0.3, rotation_range=50,\n",
    "                                   width_shift_range=0.2, height_shift_range=0.2, shear_range=0.2, \n",
    "                                   horizontal_flip=True).flow_from_dataframe(train_df,\n",
    "                                                                             x_col='path',\n",
    "                                                                             y_col='benign_malignant',\n",
    "                                                                             target_size=(64, 64),\n",
    "                                                                             batch_size= train_size)\n",
    "test_datagen = ImageDataGenerator(rescale=1./255).flow_from_dataframe(test_df,\n",
    "                                                                             x_col='path',\n",
    "                                                                             y_col='benign_malignant',\n",
    "                                                                             target_size=(64, 64),\n",
    "                                                                             batch_size= test_size)\n",
    "val_datagen =  ImageDataGenerator(rescale=1./255).flow_from_dataframe(val_df,\n",
    "                                                                             x_col='path',\n",
    "                                                                             y_col='benign_malignant',\n",
    "                                                                             target_size=(64, 64),\n",
    "                                                                             batch_size= val_size)"
   ]
  },
  {
   "cell_type": "markdown",
   "metadata": {},
   "source": [
    "Here are the purpose of the parameters for the ImageDataGenerator.\n",
    "\n",
    "1. Rescaling is performed to normalize the data for easier computation. <br>\n",
    "2. Zoom range is applied because not all images will be taken from the same distance. It further gives adjustment to the images to have similar distance/zoom level. <br>\n",
    "3. Rotation range is applied to check images at different angle in 2D. <br>\n",
    "4. Width and Height shift allows images to be stretched or reduced to fit similar size.<br>\n",
    "5. Shearing range is applied because not all images will have same depth. It further gives adjustment to the for images to have similar depth level. <br>\n",
    "6. Horizontal_flip is applied for each images might have been applied mirror view. <br>\n",
    "\n",
    "Here are the purpose of the parameters for flow_from_directory.\n",
    "1. target_size is the size of the image in pixels.<br>\n",
    "2. batch_size is the number of images to be be generated. <br>\n",
    "3. Color of the image is huge factor for malignagt determination so it is left at default mode (full-color)."
   ]
  },
  {
   "cell_type": "code",
   "execution_count": 7,
   "metadata": {},
   "outputs": [],
   "source": [
    "train_images, train_labels = next(train_datagen)\n",
    "test_images, test_labels = next(test_datagen)\n",
    "val_images, val_labels = next(val_datagen)"
   ]
  },
  {
   "cell_type": "code",
   "execution_count": 8,
   "metadata": {},
   "outputs": [
    {
     "name": "stdout",
     "output_type": "stream",
     "text": [
      "Train data set classes {'benign': 0, 'malignant': 1}\n",
      "Test data set classes {'benign': 0, 'malignant': 1}\n",
      "Validation data set classes {'benign': 0, 'malignant': 1}\n"
     ]
    }
   ],
   "source": [
    "#checking classes\n",
    "print(\"Train data set classes\",train_datagen.class_indices)\n",
    "print(\"Test data set classes\",test_datagen.class_indices)\n",
    "print(\"Validation data set classes\",val_datagen.class_indices)"
   ]
  },
  {
   "cell_type": "markdown",
   "metadata": {},
   "source": [
    "Checking the shapes of the array to have the right fit for the deep learning models."
   ]
  },
  {
   "cell_type": "code",
   "execution_count": 9,
   "metadata": {
    "run_control": {
     "marked": true
    }
   },
   "outputs": [
    {
     "name": "stdout",
     "output_type": "stream",
     "text": [
      "Number of training samples: 5421\n",
      "Number of testing samples: 1355\n",
      "Number of validation samples: 753\n",
      "train_images shape: (5421, 64, 64, 3)\n",
      "train_labels shape: (5421, 2)\n",
      "test_images shape: (1355, 64, 64, 3)\n",
      "test_labels shape: (1355, 2)\n",
      "val_images shape: (753, 64, 64, 3)\n",
      "val_labels shape: (753, 2)\n"
     ]
    }
   ],
   "source": [
    "# Explore your dataset again\n",
    "m_train = train_images.shape[0]\n",
    "num_px = train_images.shape[1]\n",
    "m_test = test_images.shape[0]\n",
    "m_val = val_images.shape[0]\n",
    "\n",
    "print (\"Number of training samples: \" + str(m_train))\n",
    "print (\"Number of testing samples: \" + str(m_test))\n",
    "print (\"Number of validation samples: \" + str(m_val))\n",
    "\n",
    "print (\"train_images shape: \" + str(train_images.shape))\n",
    "print (\"train_labels shape: \" + str(train_labels.shape))\n",
    "print (\"test_images shape: \" + str(test_images.shape))\n",
    "print (\"test_labels shape: \" + str(test_labels.shape))\n",
    "print (\"val_images shape: \" + str(val_images.shape))\n",
    "print (\"val_labels shape: \" + str(val_labels.shape))"
   ]
  },
  {
   "cell_type": "markdown",
   "metadata": {},
   "source": [
    "## Sample Images"
   ]
  },
  {
   "cell_type": "code",
   "execution_count": 10,
   "metadata": {},
   "outputs": [
    {
     "data": {
      "text/html": [
       "<div>\n",
       "<style scoped>\n",
       "    .dataframe tbody tr th:only-of-type {\n",
       "        vertical-align: middle;\n",
       "    }\n",
       "\n",
       "    .dataframe tbody tr th {\n",
       "        vertical-align: top;\n",
       "    }\n",
       "\n",
       "    .dataframe thead th {\n",
       "        text-align: right;\n",
       "    }\n",
       "</style>\n",
       "<table border=\"1\" class=\"dataframe\">\n",
       "  <thead>\n",
       "    <tr style=\"text-align: right;\">\n",
       "      <th></th>\n",
       "      <th>Benign</th>\n",
       "      <th>Malignant</th>\n",
       "    </tr>\n",
       "  </thead>\n",
       "  <tbody>\n",
       "    <tr>\n",
       "      <td>0</td>\n",
       "      <td>0.0</td>\n",
       "      <td>1.0</td>\n",
       "    </tr>\n",
       "    <tr>\n",
       "      <td>1</td>\n",
       "      <td>1.0</td>\n",
       "      <td>0.0</td>\n",
       "    </tr>\n",
       "    <tr>\n",
       "      <td>2</td>\n",
       "      <td>1.0</td>\n",
       "      <td>0.0</td>\n",
       "    </tr>\n",
       "    <tr>\n",
       "      <td>3</td>\n",
       "      <td>1.0</td>\n",
       "      <td>0.0</td>\n",
       "    </tr>\n",
       "    <tr>\n",
       "      <td>4</td>\n",
       "      <td>1.0</td>\n",
       "      <td>0.0</td>\n",
       "    </tr>\n",
       "  </tbody>\n",
       "</table>\n",
       "</div>"
      ],
      "text/plain": [
       "   Benign  Malignant\n",
       "0     0.0        1.0\n",
       "1     1.0        0.0\n",
       "2     1.0        0.0\n",
       "3     1.0        0.0\n",
       "4     1.0        0.0"
      ]
     },
     "execution_count": 10,
     "metadata": {},
     "output_type": "execute_result"
    }
   ],
   "source": [
    "train_df = pd.DataFrame(train_labels, columns=['Benign', 'Malignant'])\n",
    "train_df.head()"
   ]
  },
  {
   "cell_type": "code",
   "execution_count": 11,
   "metadata": {
    "scrolled": true
   },
   "outputs": [
    {
     "data": {
      "text/html": [
       "<div>\n",
       "<style scoped>\n",
       "    .dataframe tbody tr th:only-of-type {\n",
       "        vertical-align: middle;\n",
       "    }\n",
       "\n",
       "    .dataframe tbody tr th {\n",
       "        vertical-align: top;\n",
       "    }\n",
       "\n",
       "    .dataframe thead th {\n",
       "        text-align: right;\n",
       "    }\n",
       "</style>\n",
       "<table border=\"1\" class=\"dataframe\">\n",
       "  <thead>\n",
       "    <tr style=\"text-align: right;\">\n",
       "      <th></th>\n",
       "      <th>Benign</th>\n",
       "      <th>Malignant</th>\n",
       "    </tr>\n",
       "  </thead>\n",
       "  <tbody>\n",
       "    <tr>\n",
       "      <td>1</td>\n",
       "      <td>1.0</td>\n",
       "      <td>0.0</td>\n",
       "    </tr>\n",
       "    <tr>\n",
       "      <td>2</td>\n",
       "      <td>1.0</td>\n",
       "      <td>0.0</td>\n",
       "    </tr>\n",
       "    <tr>\n",
       "      <td>3</td>\n",
       "      <td>1.0</td>\n",
       "      <td>0.0</td>\n",
       "    </tr>\n",
       "    <tr>\n",
       "      <td>4</td>\n",
       "      <td>1.0</td>\n",
       "      <td>0.0</td>\n",
       "    </tr>\n",
       "    <tr>\n",
       "      <td>5</td>\n",
       "      <td>1.0</td>\n",
       "      <td>0.0</td>\n",
       "    </tr>\n",
       "  </tbody>\n",
       "</table>\n",
       "</div>"
      ],
      "text/plain": [
       "   Benign  Malignant\n",
       "1     1.0        0.0\n",
       "2     1.0        0.0\n",
       "3     1.0        0.0\n",
       "4     1.0        0.0\n",
       "5     1.0        0.0"
      ]
     },
     "execution_count": 11,
     "metadata": {},
     "output_type": "execute_result"
    }
   ],
   "source": [
    "benign_df = train_df[train_df.Benign==1.0]\n",
    "benign_index = benign_df.index\n",
    "benign_df.head()"
   ]
  },
  {
   "cell_type": "code",
   "execution_count": 12,
   "metadata": {},
   "outputs": [
    {
     "data": {
      "text/html": [
       "<div>\n",
       "<style scoped>\n",
       "    .dataframe tbody tr th:only-of-type {\n",
       "        vertical-align: middle;\n",
       "    }\n",
       "\n",
       "    .dataframe tbody tr th {\n",
       "        vertical-align: top;\n",
       "    }\n",
       "\n",
       "    .dataframe thead th {\n",
       "        text-align: right;\n",
       "    }\n",
       "</style>\n",
       "<table border=\"1\" class=\"dataframe\">\n",
       "  <thead>\n",
       "    <tr style=\"text-align: right;\">\n",
       "      <th></th>\n",
       "      <th>Benign</th>\n",
       "      <th>Malignant</th>\n",
       "    </tr>\n",
       "  </thead>\n",
       "  <tbody>\n",
       "    <tr>\n",
       "      <td>0</td>\n",
       "      <td>0.0</td>\n",
       "      <td>1.0</td>\n",
       "    </tr>\n",
       "    <tr>\n",
       "      <td>16</td>\n",
       "      <td>0.0</td>\n",
       "      <td>1.0</td>\n",
       "    </tr>\n",
       "    <tr>\n",
       "      <td>19</td>\n",
       "      <td>0.0</td>\n",
       "      <td>1.0</td>\n",
       "    </tr>\n",
       "    <tr>\n",
       "      <td>30</td>\n",
       "      <td>0.0</td>\n",
       "      <td>1.0</td>\n",
       "    </tr>\n",
       "    <tr>\n",
       "      <td>33</td>\n",
       "      <td>0.0</td>\n",
       "      <td>1.0</td>\n",
       "    </tr>\n",
       "  </tbody>\n",
       "</table>\n",
       "</div>"
      ],
      "text/plain": [
       "    Benign  Malignant\n",
       "0      0.0        1.0\n",
       "16     0.0        1.0\n",
       "19     0.0        1.0\n",
       "30     0.0        1.0\n",
       "33     0.0        1.0"
      ]
     },
     "execution_count": 12,
     "metadata": {},
     "output_type": "execute_result"
    }
   ],
   "source": [
    "malig_df = train_df[train_df.Malignant==1.0]\n",
    "malig_index = malig_df.index\n",
    "malig_df.head()"
   ]
  },
  {
   "cell_type": "code",
   "execution_count": 13,
   "metadata": {},
   "outputs": [
    {
     "data": {
      "image/png": "[encoded data removed]",
      "text/plain": [
       "<Figure size 1440x360 with 4 Axes>"
      ]
     },
     "metadata": {
      "needs_background": "light"
     },
     "output_type": "display_data"
    }
   ],
   "source": [
    "plt.figure(figsize=(20,5))\n",
    "for i in list(range(4)):\n",
    "    pic_index = benign_index[i]\n",
    "    plt.subplot(1,4,i+1)\n",
    "    plt.imshow(array_to_img(train_images[pic_index]))\n",
    "plt.savefig(\"../reports/Benign Picture Samples\", dpi=300)"
   ]
  },
  {
   "cell_type": "code",
   "execution_count": 14,
   "metadata": {
    "scrolled": true
   },
   "outputs": [
    {
     "data": {
      "image/png": "[encoded data removed]",
      "text/plain": [
       "<Figure size 1440x360 with 4 Axes>"
      ]
     },
     "metadata": {
      "needs_background": "light"
     },
     "output_type": "display_data"
    }
   ],
   "source": [
    "plt.figure(figsize=(20,5))\n",
    "for i in list(range(4)):\n",
    "    pic_index = malig_index[i]\n",
    "    plt.subplot(1,4,i+1)\n",
    "    plt.imshow(array_to_img(train_images[pic_index]))\n",
    "plt.savefig(\"../reports/Malig Picture Samples\", dpi=300)"
   ]
  },
  {
   "cell_type": "markdown",
   "metadata": {},
   "source": [
    "## Reshape and Class Imbalance - Smote & Adasyn"
   ]
  },
  {
   "cell_type": "markdown",
   "metadata": {},
   "source": [
    "Despite of effort to balance the images between 2 classes by adding more samples to Malignant. Class ratio is still at 1:6. In order to mitigate class imbalance, both SMOTE and Adasyn technique will be applied."
   ]
  },
  {
   "cell_type": "code",
   "execution_count": 15,
   "metadata": {},
   "outputs": [
    {
     "name": "stdout",
     "output_type": "stream",
     "text": [
      "(5421, 12288)\n",
      "(1355, 12288)\n",
      "(753, 12288)\n"
     ]
    }
   ],
   "source": [
    "train_img = train_images.reshape(train_images.shape[0], -1)\n",
    "test_img = test_images.reshape(test_images.shape[0], -1)\n",
    "val_img = val_images.reshape(val_images.shape[0], -1)\n",
    "\n",
    "print(train_img.shape)\n",
    "print(test_img.shape)\n",
    "print(val_img.shape)"
   ]
  },
  {
   "cell_type": "code",
   "execution_count": 16,
   "metadata": {},
   "outputs": [],
   "source": [
    "train_y = np.reshape(train_labels[:,0], (train_img.shape[0],1))\n",
    "test_y = np.reshape(test_labels[:,0], (test_img.shape[0],1))\n",
    "val_y = np.reshape(val_labels[:,0], (val_img.shape[0],1))"
   ]
  },
  {
   "cell_type": "code",
   "execution_count": 17,
   "metadata": {},
   "outputs": [
    {
     "name": "stderr",
     "output_type": "stream",
     "text": [
      "/opt/anaconda3/envs/learn-env/lib/python3.6/site-packages/sklearn/utils/validation.py:724: DataConversionWarning: A column-vector y was passed when a 1d array was expected. Please change the shape of y to (n_samples, ), for example using ravel().\n",
      "  y = column_or_1d(y, warn=True)\n",
      "/opt/anaconda3/envs/learn-env/lib/python3.6/site-packages/sklearn/utils/validation.py:724: DataConversionWarning: A column-vector y was passed when a 1d array was expected. Please change the shape of y to (n_samples, ), for example using ravel().\n",
      "  y = column_or_1d(y, warn=True)\n"
     ]
    }
   ],
   "source": [
    "smote = SMOTE(random_state=42)\n",
    "smote_train_img, smote_train_y = smote.fit_sample(train_img, train_y)"
   ]
  },
  {
   "cell_type": "code",
   "execution_count": 18,
   "metadata": {},
   "outputs": [
    {
     "name": "stdout",
     "output_type": "stream",
     "text": [
      "[0. 1.]\n",
      "[4679 4679]\n"
     ]
    }
   ],
   "source": [
    "unique_elements, counts_elements = np.unique(smote_train_y, return_counts=True)\n",
    "print(unique_elements)\n",
    "print(counts_elements)"
   ]
  },
  {
   "cell_type": "code",
   "execution_count": 19,
   "metadata": {},
   "outputs": [
    {
     "name": "stderr",
     "output_type": "stream",
     "text": [
      "/opt/anaconda3/envs/learn-env/lib/python3.6/site-packages/sklearn/utils/validation.py:724: DataConversionWarning: A column-vector y was passed when a 1d array was expected. Please change the shape of y to (n_samples, ), for example using ravel().\n",
      "  y = column_or_1d(y, warn=True)\n",
      "/opt/anaconda3/envs/learn-env/lib/python3.6/site-packages/sklearn/utils/validation.py:724: DataConversionWarning: A column-vector y was passed when a 1d array was expected. Please change the shape of y to (n_samples, ), for example using ravel().\n",
      "  y = column_or_1d(y, warn=True)\n"
     ]
    }
   ],
   "source": [
    "adasyn = ADASYN(random_state=42)\n",
    "adasyn_train_img, adasyn_train_y = adasyn.fit_sample(train_img, train_y)"
   ]
  },
  {
   "cell_type": "code",
   "execution_count": 20,
   "metadata": {},
   "outputs": [
    {
     "name": "stdout",
     "output_type": "stream",
     "text": [
      "[0. 1.]\n",
      "[4586 4679]\n"
     ]
    }
   ],
   "source": [
    "unique_elements, counts_elements = np.unique(adasyn_train_y, return_counts=True)\n",
    "print(unique_elements)\n",
    "print(counts_elements)"
   ]
  },
  {
   "cell_type": "code",
   "execution_count": 21,
   "metadata": {},
   "outputs": [],
   "source": [
    "smote_train_images = smote_train_img.reshape(smote_train_img.shape[0],64,64,3)"
   ]
  },
  {
   "cell_type": "code",
   "execution_count": 22,
   "metadata": {},
   "outputs": [],
   "source": [
    "adasyn_train_images = adasyn_train_img.reshape(adasyn_train_img.shape[0],64,64,3)"
   ]
  },
  {
   "cell_type": "markdown",
   "metadata": {},
   "source": [
    "## Exporting Processed Data"
   ]
  },
  {
   "cell_type": "code",
   "execution_count": 23,
   "metadata": {},
   "outputs": [],
   "source": [
    "np.savetxt(\"../data/processed/train_img.csv\", train_img, delimiter=\",\")"
   ]
  },
  {
   "cell_type": "code",
   "execution_count": 24,
   "metadata": {},
   "outputs": [],
   "source": [
    "np.savetxt(\"../data/processed/train_labels.csv\", train_labels, delimiter=\",\")\n",
    "\n",
    "np.savetxt(\"../data/processed/test_img.csv\", test_img, delimiter=',')\n",
    "np.savetxt(\"../data/processed/test_labels.csv\", test_labels, delimiter=\",\")\n",
    "\n",
    "np.savetxt(\"../data/processed/val_img.csv\", val_img, delimiter=',')\n",
    "np.savetxt(\"../data/processed/val_labels.csv\", val_labels, delimiter=\",\")\n",
    "\n",
    "np.savetxt(\"../data/processed/smote_train_img.csv\", smote_train_img, delimiter=\",\")\n",
    "np.savetxt(\"../data/processed/smote_train_labels.csv\", smote_train_y, delimiter=\",\")\n",
    "\n",
    "np.savetxt(\"../data/processed/adasyn_train_img.csv\", adasyn_train_img, delimiter=\",\")\n",
    "np.savetxt(\"../data/processed/adasyn_train_labels.csv\", adasyn_train_y, delimiter=\",\")\n"
   ]
  },
  {
   "cell_type": "markdown",
   "metadata": {},
   "source": [
    "## Conclusion"
   ]
  },
  {
   "cell_type": "markdown",
   "metadata": {},
   "source": [
    "By using keras, jpeg format of data was converted to arrays then saved as a txt form. For the mitigation of the class imbalance, SMOTE and ADASYN technique was applied."
   ]
  }
 ],
 "metadata": {
  "kernelspec": {
   "display_name": "Python 3",
   "language": "python",
   "name": "python3"
  },
  "language_info": {
   "codemirror_mode": {
    "name": "ipython",
    "version": 3
   },
   "file_extension": ".py",
   "mimetype": "text/x-python",
   "name": "python",
   "nbconvert_exporter": "python",
   "pygments_lexer": "ipython3",
   "version": "3.6.9"
  }
 },
 "nbformat": 4,
 "nbformat_minor": 2
}
