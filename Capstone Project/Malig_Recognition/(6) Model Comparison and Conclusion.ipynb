{
 "cells": [
  {
   "cell_type": "markdown",
   "metadata": {},
   "source": [
    "# Model Comparison and Conclusion"
   ]
  },
  {
   "cell_type": "markdown",
   "metadata": {},
   "source": [
    "This note summarizes the work and compare the models in one sight."
   ]
  },
  {
   "cell_type": "markdown",
   "metadata": {},
   "source": [
    "## Libraries"
   ]
  },
  {
   "cell_type": "markdown",
   "metadata": {},
   "source": [
    "Importing necessary libraries."
   ]
  },
  {
   "cell_type": "code",
   "execution_count": 1,
   "metadata": {
    "run_control": {
     "marked": true
    }
   },
   "outputs": [
    {
     "name": "stdout",
     "output_type": "stream",
     "text": [
      "train_img shape (5421, 12288)\n",
      "train_images shape (5421, 64, 64, 3)\n",
      "train_labels shape (5421, 2)\n",
      "test_img shape (1355, 12288)\n",
      "test_images shape (1355, 64, 64, 3)\n",
      "test_labels shape (1355, 2)\n",
      "val_img shape (753, 12288)\n",
      "val_images shape (753, 64, 64, 3)\n",
      "val_labels shape (753, 2)\n",
      "smote_img shape (9358, 12288)\n",
      "smote_images shape (9358, 64, 64, 3)\n",
      "smote_labels shape (9358,)\n",
      "adasyn_img shape (9265, 12288)\n",
      "adasyn_images shape (9265, 64, 64, 3)\n",
      "adasyn_labels shape (9265,)\n",
      "train_y shape (5421, 1)\n",
      "test_y shape (1355, 1)\n",
      "val_y shape (753, 1)\n"
     ]
    }
   ],
   "source": [
    "import pandas as pd\n",
    "\n",
    "import numpy as np\n",
    "\n",
    "from tensorflow.keras.models import load_model\n",
    "\n",
    "from sklearn.metrics import confusion_matrix\n",
    "\n",
    "from malig_data import *\n"
   ]
  },
  {
   "cell_type": "markdown",
   "metadata": {},
   "source": [
    "Defining file Path"
   ]
  },
  {
   "cell_type": "code",
   "execution_count": 2,
   "metadata": {},
   "outputs": [],
   "source": [
    "basic_NN_file = \"../models/basic_NN.h5\"\n",
    "smote_NN_file = \"../models/SMOTE_NN.h5\"\n",
    "adasyn_NN_file = \"../models/ADASYN_NN.h5\"\n",
    "\n",
    "basic_CNN_file = \"../models/basic_cnn.h5\"\n",
    "smote_CNN_file = \"../models/smote_cnn.h5\"\n",
    "adasyn_CNN_file = \"../models/adasyn_cnn.h5\"\n",
    "\n",
    "VGG19_file = \"../models/vgg19.h5\"\n",
    "VGG19_adasyn_file = '../models/vgg19_adasyn.h5'\n",
    "\n",
    "ResNet50_file = \"../models/ResNet50.h5\"\n",
    "ResNet50_adasyn_file = \"../models/ResNet50 Adasyn.h5\""
   ]
  },
  {
   "cell_type": "code",
   "execution_count": 3,
   "metadata": {},
   "outputs": [],
   "source": [
    "def model_loading(filepath, train_X, train_y, val_X, val_y):\n",
    "    \"\"\"\n",
    "    Function that displays the confusion matrix of the model and returns the saved model\n",
    "    filepath: where the model is saved\n",
    "    train_X: train image\n",
    "    train_y: train target\n",
    "    val_X: validation image\n",
    "    val_y: validation target\n",
    "    \"\"\"\n",
    "    saved_model = load_model(filepath)\n",
    "\n",
    "    results_train = saved_model.evaluate(train_X, train_y)\n",
    "    print(f'Training Loss: {results_train[0]:.3} \\nTraining Accuracy: {results_train[1]:.3}')\n",
    "\n",
    "    print('----------')\n",
    "\n",
    "    results_test = saved_model.evaluate(val_X, val_y)\n",
    "    print(f'Test Loss: {results_test[0]:.3} \\nTest Accuracy: {results_test[1]:.3}')\n",
    "\n",
    "    predictions = saved_model.predict_classes(val_X)\n",
    "    cm = confusion_matrix(val_y, predictions, labels=[0,1])\n",
    "    \n",
    "    index=[\"Actual Malig\", \"Actual Benign\"]\n",
    "    columns=[\"Predicted Malig\", \"Predicted Benign\"]\n",
    "    df = pd.DataFrame(data=cm,index=index, columns=columns)\n",
    "    display(df)\n",
    "\n",
    "    return saved_model"
   ]
  },
  {
   "cell_type": "markdown",
   "metadata": {},
   "source": [
    "Model Comparisons"
   ]
  },
  {
   "cell_type": "code",
   "execution_count": 4,
   "metadata": {
    "scrolled": false
   },
   "outputs": [
    {
     "name": "stdout",
     "output_type": "stream",
     "text": [
      "170/170 [==============================] - 0s 2ms/step - loss: 0.0996 - accuracy: 0.9655\n",
      "Training Loss: 0.0996 \n",
      "Training Accuracy: 0.966\n",
      "----------\n",
      "24/24 [==============================] - 0s 2ms/step - loss: 0.1975 - accuracy: 0.9363\n"
     ]
    },
    {
     "name": "stderr",
     "output_type": "stream",
     "text": [
      "WARNING: Logging before flag parsing goes to stderr.\n",
      "W0105 23:49:56.012496 4583423424 deprecation.py:323] From <ipython-input-3-eb0f227b5e18>:13: Sequential.predict_classes (from tensorflow.python.keras.engine.sequential) is deprecated and will be removed after 2021-01-01.\n",
      "Instructions for updating:\n",
      "Please use instead:* `np.argmax(model.predict(x), axis=-1)`,   if your model does multi-class classification   (e.g. if it uses a `softmax` last-layer activation).* `(model.predict(x) > 0.5).astype(\"int32\")`,   if your model does binary classification   (e.g. if it uses a `sigmoid` last-layer activation).\n"
     ]
    },
    {
     "name": "stdout",
     "output_type": "stream",
     "text": [
      "Test Loss: 0.198 \n",
      "Test Accuracy: 0.936\n"
     ]
    },
    {
     "data": {
      "text/html": [
       "<div>\n",
       "<style scoped>\n",
       "    .dataframe tbody tr th:only-of-type {\n",
       "        vertical-align: middle;\n",
       "    }\n",
       "\n",
       "    .dataframe tbody tr th {\n",
       "        vertical-align: top;\n",
       "    }\n",
       "\n",
       "    .dataframe thead th {\n",
       "        text-align: right;\n",
       "    }\n",
       "</style>\n",
       "<table border=\"1\" class=\"dataframe\">\n",
       "  <thead>\n",
       "    <tr style=\"text-align: right;\">\n",
       "      <th></th>\n",
       "      <th>Predicted Malig</th>\n",
       "      <th>Predicted Benign</th>\n",
       "    </tr>\n",
       "  </thead>\n",
       "  <tbody>\n",
       "    <tr>\n",
       "      <td>Actual Malig</td>\n",
       "      <td>87</td>\n",
       "      <td>34</td>\n",
       "    </tr>\n",
       "    <tr>\n",
       "      <td>Actual Benign</td>\n",
       "      <td>14</td>\n",
       "      <td>618</td>\n",
       "    </tr>\n",
       "  </tbody>\n",
       "</table>\n",
       "</div>"
      ],
      "text/plain": [
       "               Predicted Malig  Predicted Benign\n",
       "Actual Malig                87                34\n",
       "Actual Benign               14               618"
      ]
     },
     "metadata": {},
     "output_type": "display_data"
    }
   ],
   "source": [
    "basic_NN_model = model_loading(basic_NN_file, train_img, train_y, \n",
    "                               val_img, val_y)"
   ]
  },
  {
   "cell_type": "code",
   "execution_count": 5,
   "metadata": {},
   "outputs": [
    {
     "name": "stdout",
     "output_type": "stream",
     "text": [
      "293/293 [==============================] - 3s 9ms/step - loss: 0.0903 - accuracy: 0.9677: 0s - loss: 0.0960 - accuracy:  - ETA: 0s - loss: 0.0946 - accu\n",
      "Training Loss: 0.0903 \n",
      "Training Accuracy: 0.968\n",
      "----------\n",
      "24/24 [==============================] - 0s 4ms/step - loss: 0.3517 - accuracy: 0.8977\n",
      "Test Loss: 0.352 \n",
      "Test Accuracy: 0.898\n"
     ]
    },
    {
     "data": {
      "text/html": [
       "<div>\n",
       "<style scoped>\n",
       "    .dataframe tbody tr th:only-of-type {\n",
       "        vertical-align: middle;\n",
       "    }\n",
       "\n",
       "    .dataframe tbody tr th {\n",
       "        vertical-align: top;\n",
       "    }\n",
       "\n",
       "    .dataframe thead th {\n",
       "        text-align: right;\n",
       "    }\n",
       "</style>\n",
       "<table border=\"1\" class=\"dataframe\">\n",
       "  <thead>\n",
       "    <tr style=\"text-align: right;\">\n",
       "      <th></th>\n",
       "      <th>Predicted Malig</th>\n",
       "      <th>Predicted Benign</th>\n",
       "    </tr>\n",
       "  </thead>\n",
       "  <tbody>\n",
       "    <tr>\n",
       "      <td>Actual Malig</td>\n",
       "      <td>106</td>\n",
       "      <td>15</td>\n",
       "    </tr>\n",
       "    <tr>\n",
       "      <td>Actual Benign</td>\n",
       "      <td>62</td>\n",
       "      <td>570</td>\n",
       "    </tr>\n",
       "  </tbody>\n",
       "</table>\n",
       "</div>"
      ],
      "text/plain": [
       "               Predicted Malig  Predicted Benign\n",
       "Actual Malig               106                15\n",
       "Actual Benign               62               570"
      ]
     },
     "metadata": {},
     "output_type": "display_data"
    }
   ],
   "source": [
    "smote_NN_model = model_loading(smote_NN_file, smote_img, smote_labels,\n",
    "                               val_img, val_y)"
   ]
  },
  {
   "cell_type": "code",
   "execution_count": 6,
   "metadata": {
    "scrolled": true
   },
   "outputs": [
    {
     "name": "stdout",
     "output_type": "stream",
     "text": [
      "290/290 [==============================] - 1s 2ms/step - loss: 0.0915 - accuracy: 0.9662\n",
      "Training Loss: 0.0915 \n",
      "Training Accuracy: 0.966\n",
      "----------\n",
      "24/24 [==============================] - 0s 3ms/step - loss: 0.4226 - accuracy: 0.8884\n",
      "Test Loss: 0.423 \n",
      "Test Accuracy: 0.888\n"
     ]
    },
    {
     "data": {
      "text/html": [
       "<div>\n",
       "<style scoped>\n",
       "    .dataframe tbody tr th:only-of-type {\n",
       "        vertical-align: middle;\n",
       "    }\n",
       "\n",
       "    .dataframe tbody tr th {\n",
       "        vertical-align: top;\n",
       "    }\n",
       "\n",
       "    .dataframe thead th {\n",
       "        text-align: right;\n",
       "    }\n",
       "</style>\n",
       "<table border=\"1\" class=\"dataframe\">\n",
       "  <thead>\n",
       "    <tr style=\"text-align: right;\">\n",
       "      <th></th>\n",
       "      <th>Predicted Malig</th>\n",
       "      <th>Predicted Benign</th>\n",
       "    </tr>\n",
       "  </thead>\n",
       "  <tbody>\n",
       "    <tr>\n",
       "      <td>Actual Malig</td>\n",
       "      <td>100</td>\n",
       "      <td>21</td>\n",
       "    </tr>\n",
       "    <tr>\n",
       "      <td>Actual Benign</td>\n",
       "      <td>63</td>\n",
       "      <td>569</td>\n",
       "    </tr>\n",
       "  </tbody>\n",
       "</table>\n",
       "</div>"
      ],
      "text/plain": [
       "               Predicted Malig  Predicted Benign\n",
       "Actual Malig               100                21\n",
       "Actual Benign               63               569"
      ]
     },
     "metadata": {},
     "output_type": "display_data"
    }
   ],
   "source": [
    "adasyn_NN_model = model_loading(adasyn_NN_file, adasyn_img, adasyn_labels, \n",
    "                                val_img, val_y)"
   ]
  },
  {
   "cell_type": "code",
   "execution_count": 7,
   "metadata": {},
   "outputs": [
    {
     "name": "stdout",
     "output_type": "stream",
     "text": [
      "170/170 [==============================] - 6s 33ms/step - loss: 0.1832 - accuracy: 0.9408\n",
      "Training Loss: 0.183 \n",
      "Training Accuracy: 0.941\n",
      "----------\n",
      "24/24 [==============================] - 1s 40ms/step - loss: 0.1888 - accuracy: 0.9349\n",
      "Test Loss: 0.189 \n",
      "Test Accuracy: 0.935\n"
     ]
    },
    {
     "data": {
      "text/html": [
       "<div>\n",
       "<style scoped>\n",
       "    .dataframe tbody tr th:only-of-type {\n",
       "        vertical-align: middle;\n",
       "    }\n",
       "\n",
       "    .dataframe tbody tr th {\n",
       "        vertical-align: top;\n",
       "    }\n",
       "\n",
       "    .dataframe thead th {\n",
       "        text-align: right;\n",
       "    }\n",
       "</style>\n",
       "<table border=\"1\" class=\"dataframe\">\n",
       "  <thead>\n",
       "    <tr style=\"text-align: right;\">\n",
       "      <th></th>\n",
       "      <th>Predicted Malig</th>\n",
       "      <th>Predicted Benign</th>\n",
       "    </tr>\n",
       "  </thead>\n",
       "  <tbody>\n",
       "    <tr>\n",
       "      <td>Actual Malig</td>\n",
       "      <td>81</td>\n",
       "      <td>40</td>\n",
       "    </tr>\n",
       "    <tr>\n",
       "      <td>Actual Benign</td>\n",
       "      <td>9</td>\n",
       "      <td>623</td>\n",
       "    </tr>\n",
       "  </tbody>\n",
       "</table>\n",
       "</div>"
      ],
      "text/plain": [
       "               Predicted Malig  Predicted Benign\n",
       "Actual Malig                81                40\n",
       "Actual Benign                9               623"
      ]
     },
     "metadata": {},
     "output_type": "display_data"
    }
   ],
   "source": [
    "basic_CNN_model = model_loading(basic_CNN_file, train_images, train_y, \n",
    "                                val_images, val_y)"
   ]
  },
  {
   "cell_type": "code",
   "execution_count": 8,
   "metadata": {},
   "outputs": [
    {
     "name": "stdout",
     "output_type": "stream",
     "text": [
      "293/293 [==============================] - 9s 30ms/step - loss: 0.3162 - accuracy: 0.8842\n",
      "Training Loss: 0.316 \n",
      "Training Accuracy: 0.884\n",
      "----------\n",
      "24/24 [==============================] - 1s 37ms/step - loss: 0.2409 - accuracy: 0.9137\n",
      "Test Loss: 0.241 \n",
      "Test Accuracy: 0.914\n"
     ]
    },
    {
     "data": {
      "text/html": [
       "<div>\n",
       "<style scoped>\n",
       "    .dataframe tbody tr th:only-of-type {\n",
       "        vertical-align: middle;\n",
       "    }\n",
       "\n",
       "    .dataframe tbody tr th {\n",
       "        vertical-align: top;\n",
       "    }\n",
       "\n",
       "    .dataframe thead th {\n",
       "        text-align: right;\n",
       "    }\n",
       "</style>\n",
       "<table border=\"1\" class=\"dataframe\">\n",
       "  <thead>\n",
       "    <tr style=\"text-align: right;\">\n",
       "      <th></th>\n",
       "      <th>Predicted Malig</th>\n",
       "      <th>Predicted Benign</th>\n",
       "    </tr>\n",
       "  </thead>\n",
       "  <tbody>\n",
       "    <tr>\n",
       "      <td>Actual Malig</td>\n",
       "      <td>90</td>\n",
       "      <td>31</td>\n",
       "    </tr>\n",
       "    <tr>\n",
       "      <td>Actual Benign</td>\n",
       "      <td>34</td>\n",
       "      <td>598</td>\n",
       "    </tr>\n",
       "  </tbody>\n",
       "</table>\n",
       "</div>"
      ],
      "text/plain": [
       "               Predicted Malig  Predicted Benign\n",
       "Actual Malig                90                31\n",
       "Actual Benign               34               598"
      ]
     },
     "metadata": {},
     "output_type": "display_data"
    }
   ],
   "source": [
    "smote_CNN_model = model_loading(smote_CNN_file, smote_images, smote_labels,\n",
    "                               val_images, val_y)"
   ]
  },
  {
   "cell_type": "code",
   "execution_count": 9,
   "metadata": {},
   "outputs": [
    {
     "name": "stdout",
     "output_type": "stream",
     "text": [
      "290/290 [==============================] - 10s 36ms/step - loss: 0.2567 - accuracy: 0.9005\n",
      "Training Loss: 0.257 \n",
      "Training Accuracy: 0.9\n",
      "----------\n",
      "24/24 [==============================] - 1s 29ms/step - loss: 0.1913 - accuracy: 0.9456\n",
      "Test Loss: 0.191 \n",
      "Test Accuracy: 0.946\n"
     ]
    },
    {
     "data": {
      "text/html": [
       "<div>\n",
       "<style scoped>\n",
       "    .dataframe tbody tr th:only-of-type {\n",
       "        vertical-align: middle;\n",
       "    }\n",
       "\n",
       "    .dataframe tbody tr th {\n",
       "        vertical-align: top;\n",
       "    }\n",
       "\n",
       "    .dataframe thead th {\n",
       "        text-align: right;\n",
       "    }\n",
       "</style>\n",
       "<table border=\"1\" class=\"dataframe\">\n",
       "  <thead>\n",
       "    <tr style=\"text-align: right;\">\n",
       "      <th></th>\n",
       "      <th>Predicted Malig</th>\n",
       "      <th>Predicted Benign</th>\n",
       "    </tr>\n",
       "  </thead>\n",
       "  <tbody>\n",
       "    <tr>\n",
       "      <td>Actual Malig</td>\n",
       "      <td>92</td>\n",
       "      <td>29</td>\n",
       "    </tr>\n",
       "    <tr>\n",
       "      <td>Actual Benign</td>\n",
       "      <td>12</td>\n",
       "      <td>620</td>\n",
       "    </tr>\n",
       "  </tbody>\n",
       "</table>\n",
       "</div>"
      ],
      "text/plain": [
       "               Predicted Malig  Predicted Benign\n",
       "Actual Malig                92                29\n",
       "Actual Benign               12               620"
      ]
     },
     "metadata": {},
     "output_type": "display_data"
    }
   ],
   "source": [
    "adasy_CNN_model = model_loading(adasyn_CNN_file, adasyn_images, adasyn_labels,\n",
    "                               val_images, val_y)"
   ]
  },
  {
   "cell_type": "code",
   "execution_count": 10,
   "metadata": {},
   "outputs": [
    {
     "name": "stdout",
     "output_type": "stream",
     "text": [
      "170/170 [==============================] - 160s 942ms/step - loss: 0.1266 - accuracy: 0.9561\n",
      "Training Loss: 0.127 \n",
      "Training Accuracy: 0.956\n",
      "----------\n",
      "24/24 [==============================] - 19s 806ms/step - loss: 0.2386 - accuracy: 0.9363\n",
      "Test Loss: 0.239 \n",
      "Test Accuracy: 0.936\n"
     ]
    },
    {
     "data": {
      "text/html": [
       "<div>\n",
       "<style scoped>\n",
       "    .dataframe tbody tr th:only-of-type {\n",
       "        vertical-align: middle;\n",
       "    }\n",
       "\n",
       "    .dataframe tbody tr th {\n",
       "        vertical-align: top;\n",
       "    }\n",
       "\n",
       "    .dataframe thead th {\n",
       "        text-align: right;\n",
       "    }\n",
       "</style>\n",
       "<table border=\"1\" class=\"dataframe\">\n",
       "  <thead>\n",
       "    <tr style=\"text-align: right;\">\n",
       "      <th></th>\n",
       "      <th>Predicted Malig</th>\n",
       "      <th>Predicted Benign</th>\n",
       "    </tr>\n",
       "  </thead>\n",
       "  <tbody>\n",
       "    <tr>\n",
       "      <td>Actual Malig</td>\n",
       "      <td>77</td>\n",
       "      <td>44</td>\n",
       "    </tr>\n",
       "    <tr>\n",
       "      <td>Actual Benign</td>\n",
       "      <td>4</td>\n",
       "      <td>628</td>\n",
       "    </tr>\n",
       "  </tbody>\n",
       "</table>\n",
       "</div>"
      ],
      "text/plain": [
       "               Predicted Malig  Predicted Benign\n",
       "Actual Malig                77                44\n",
       "Actual Benign                4               628"
      ]
     },
     "metadata": {},
     "output_type": "display_data"
    }
   ],
   "source": [
    "vgg19_model = model_loading(VGG19_file, train_images, train_y,\n",
    "                           val_images, val_y)"
   ]
  },
  {
   "cell_type": "code",
   "execution_count": 11,
   "metadata": {},
   "outputs": [
    {
     "name": "stdout",
     "output_type": "stream",
     "text": [
      "290/290 [==============================] - 257s 888ms/step - loss: 0.0844 - accuracy: 0.9704\n",
      "Training Loss: 0.0844 \n",
      "Training Accuracy: 0.97\n",
      "----------\n",
      "24/24 [==============================] - 20s 840ms/step - loss: 0.2887 - accuracy: 0.9296\n",
      "Test Loss: 0.289 \n",
      "Test Accuracy: 0.93\n"
     ]
    },
    {
     "data": {
      "text/html": [
       "<div>\n",
       "<style scoped>\n",
       "    .dataframe tbody tr th:only-of-type {\n",
       "        vertical-align: middle;\n",
       "    }\n",
       "\n",
       "    .dataframe tbody tr th {\n",
       "        vertical-align: top;\n",
       "    }\n",
       "\n",
       "    .dataframe thead th {\n",
       "        text-align: right;\n",
       "    }\n",
       "</style>\n",
       "<table border=\"1\" class=\"dataframe\">\n",
       "  <thead>\n",
       "    <tr style=\"text-align: right;\">\n",
       "      <th></th>\n",
       "      <th>Predicted Malig</th>\n",
       "      <th>Predicted Benign</th>\n",
       "    </tr>\n",
       "  </thead>\n",
       "  <tbody>\n",
       "    <tr>\n",
       "      <td>Actual Malig</td>\n",
       "      <td>79</td>\n",
       "      <td>42</td>\n",
       "    </tr>\n",
       "    <tr>\n",
       "      <td>Actual Benign</td>\n",
       "      <td>11</td>\n",
       "      <td>621</td>\n",
       "    </tr>\n",
       "  </tbody>\n",
       "</table>\n",
       "</div>"
      ],
      "text/plain": [
       "               Predicted Malig  Predicted Benign\n",
       "Actual Malig                79                42\n",
       "Actual Benign               11               621"
      ]
     },
     "metadata": {},
     "output_type": "display_data"
    }
   ],
   "source": [
    "vgg19_model19_adasyn_model = model_loading(VGG19_adasyn_file, adasyn_images, adasyn_labels,\n",
    "                                   val_images, val_y)"
   ]
  },
  {
   "cell_type": "code",
   "execution_count": 12,
   "metadata": {},
   "outputs": [
    {
     "name": "stdout",
     "output_type": "stream",
     "text": [
      "170/170 [==============================] - 56s 328ms/step - loss: 0.2520 - accuracy: 0.9044\n",
      "Training Loss: 0.252 \n",
      "Training Accuracy: 0.904\n",
      "----------\n",
      "24/24 [==============================] - 10s 397ms/step - loss: 0.2517 - accuracy: 0.8964\n",
      "Test Loss: 0.252 \n",
      "Test Accuracy: 0.896\n"
     ]
    },
    {
     "data": {
      "text/html": [
       "<div>\n",
       "<style scoped>\n",
       "    .dataframe tbody tr th:only-of-type {\n",
       "        vertical-align: middle;\n",
       "    }\n",
       "\n",
       "    .dataframe tbody tr th {\n",
       "        vertical-align: top;\n",
       "    }\n",
       "\n",
       "    .dataframe thead th {\n",
       "        text-align: right;\n",
       "    }\n",
       "</style>\n",
       "<table border=\"1\" class=\"dataframe\">\n",
       "  <thead>\n",
       "    <tr style=\"text-align: right;\">\n",
       "      <th></th>\n",
       "      <th>Predicted Malig</th>\n",
       "      <th>Predicted Benign</th>\n",
       "    </tr>\n",
       "  </thead>\n",
       "  <tbody>\n",
       "    <tr>\n",
       "      <td>Actual Malig</td>\n",
       "      <td>54</td>\n",
       "      <td>67</td>\n",
       "    </tr>\n",
       "    <tr>\n",
       "      <td>Actual Benign</td>\n",
       "      <td>11</td>\n",
       "      <td>621</td>\n",
       "    </tr>\n",
       "  </tbody>\n",
       "</table>\n",
       "</div>"
      ],
      "text/plain": [
       "               Predicted Malig  Predicted Benign\n",
       "Actual Malig                54                67\n",
       "Actual Benign               11               621"
      ]
     },
     "metadata": {},
     "output_type": "display_data"
    }
   ],
   "source": [
    "resNet50_model = model_loading(ResNet50_file, train_images, train_y,\n",
    "                              val_images, val_y)"
   ]
  },
  {
   "cell_type": "code",
   "execution_count": 13,
   "metadata": {},
   "outputs": [
    {
     "name": "stdout",
     "output_type": "stream",
     "text": [
      "290/290 [==============================] - 99s 343ms/step - loss: 0.3501 - accuracy: 0.8507\n",
      "Training Loss: 0.35 \n",
      "Training Accuracy: 0.851\n",
      "----------\n",
      "24/24 [==============================] - 8s 314ms/step - loss: 0.3287 - accuracy: 0.8752\n",
      "Test Loss: 0.329 \n",
      "Test Accuracy: 0.875\n"
     ]
    },
    {
     "data": {
      "text/html": [
       "<div>\n",
       "<style scoped>\n",
       "    .dataframe tbody tr th:only-of-type {\n",
       "        vertical-align: middle;\n",
       "    }\n",
       "\n",
       "    .dataframe tbody tr th {\n",
       "        vertical-align: top;\n",
       "    }\n",
       "\n",
       "    .dataframe thead th {\n",
       "        text-align: right;\n",
       "    }\n",
       "</style>\n",
       "<table border=\"1\" class=\"dataframe\">\n",
       "  <thead>\n",
       "    <tr style=\"text-align: right;\">\n",
       "      <th></th>\n",
       "      <th>Predicted Malig</th>\n",
       "      <th>Predicted Benign</th>\n",
       "    </tr>\n",
       "  </thead>\n",
       "  <tbody>\n",
       "    <tr>\n",
       "      <td>Actual Malig</td>\n",
       "      <td>90</td>\n",
       "      <td>31</td>\n",
       "    </tr>\n",
       "    <tr>\n",
       "      <td>Actual Benign</td>\n",
       "      <td>63</td>\n",
       "      <td>569</td>\n",
       "    </tr>\n",
       "  </tbody>\n",
       "</table>\n",
       "</div>"
      ],
      "text/plain": [
       "               Predicted Malig  Predicted Benign\n",
       "Actual Malig                90                31\n",
       "Actual Benign               63               569"
      ]
     },
     "metadata": {},
     "output_type": "display_data"
    }
   ],
   "source": [
    "resNet50_adasyn_model = model_loading(ResNet50_adasyn_file, adasyn_images, adasyn_labels,\n",
    "                                      val_images, val_y)"
   ]
  },
  {
   "cell_type": "markdown",
   "metadata": {},
   "source": [
    "## Conclusion"
   ]
  },
  {
   "cell_type": "markdown",
   "metadata": {},
   "source": [
    "Based on above observation, the best model to work with is CNN model with adasyn data balance. It has exhibited 94.6% with further tuninng, it would be able to bring higher accuracy."
   ]
  }
 ],
 "metadata": {
  "kernelspec": {
   "display_name": "Python 3",
   "language": "python",
   "name": "python3"
  },
  "language_info": {
   "codemirror_mode": {
    "name": "ipython",
    "version": 3
   },
   "file_extension": ".py",
   "mimetype": "text/x-python",
   "name": "python",
   "nbconvert_exporter": "python",
   "pygments_lexer": "ipython3",
   "version": "3.6.9"
  }
 },
 "nbformat": 4,
 "nbformat_minor": 2
}
